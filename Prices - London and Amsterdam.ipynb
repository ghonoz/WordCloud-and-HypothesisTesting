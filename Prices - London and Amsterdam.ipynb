{
 "cells": [
  {
   "cell_type": "code",
   "execution_count": 11,
   "id": "dc97e30b",
   "metadata": {},
   "outputs": [],
   "source": [
    "import matplotlib.pyplot as plt\n",
    "import numpy as np\n",
    "import pandas as pd\n",
    "import seaborn as sns\n",
    "import warnings \n",
    "from pylab import rcParams\n",
    "from scipy.stats import f_oneway, ttest_ind\n",
    "from statistics import mean \n"
   ]
  },
  {
   "cell_type": "code",
   "execution_count": 2,
   "id": "245bd1bc",
   "metadata": {},
   "outputs": [],
   "source": [
    "%matplotlib inline\n"
   ]
  },
  {
   "cell_type": "code",
   "execution_count": 30,
   "id": "531e7737",
   "metadata": {},
   "outputs": [],
   "source": [
    "def plot_distribution(dist):\n",
    "    plt.figure()\n",
    "    ax = sns.distplot(dist)\n",
    "    plt.axvline(np.mean(dist), color = 'k', linestyle = 'dashed', linewidth = 5)\n",
    "    _, max_ = plt.ylim()\n",
    "    plt.text(\n",
    "        dist.mean() + dist.mean() / 10,\n",
    "        max_ - max_ / 10,\n",
    "        'Mean: {:.2f}'.format(dist.mean()),\n",
    "    \n",
    "    )\n",
    "    return plt.figure"
   ]
  },
  {
   "cell_type": "code",
   "execution_count": 4,
   "id": "b0059649",
   "metadata": {},
   "outputs": [],
   "source": [
    "london_database = pd.read_csv('londres_imoveis.csv')"
   ]
  },
  {
   "cell_type": "code",
   "execution_count": 5,
   "id": "5b7ddc33",
   "metadata": {},
   "outputs": [
    {
     "data": {
      "text/html": [
       "<div>\n",
       "<style scoped>\n",
       "    .dataframe tbody tr th:only-of-type {\n",
       "        vertical-align: middle;\n",
       "    }\n",
       "\n",
       "    .dataframe tbody tr th {\n",
       "        vertical-align: top;\n",
       "    }\n",
       "\n",
       "    .dataframe thead th {\n",
       "        text-align: right;\n",
       "    }\n",
       "</style>\n",
       "<table border=\"1\" class=\"dataframe\">\n",
       "  <thead>\n",
       "    <tr style=\"text-align: right;\">\n",
       "      <th></th>\n",
       "      <th>id</th>\n",
       "      <th>name</th>\n",
       "      <th>host_id</th>\n",
       "      <th>host_name</th>\n",
       "      <th>neighbourhood_group</th>\n",
       "      <th>neighbourhood</th>\n",
       "      <th>latitude</th>\n",
       "      <th>longitude</th>\n",
       "      <th>room_type</th>\n",
       "      <th>price</th>\n",
       "      <th>minimum_nights</th>\n",
       "      <th>number_of_reviews</th>\n",
       "      <th>last_review</th>\n",
       "      <th>reviews_per_month</th>\n",
       "      <th>calculated_host_listings_count</th>\n",
       "      <th>availability_365</th>\n",
       "      <th>number_of_reviews_ltm</th>\n",
       "      <th>license</th>\n",
       "    </tr>\n",
       "  </thead>\n",
       "  <tbody>\n",
       "    <tr>\n",
       "      <th>0</th>\n",
       "      <td>15400</td>\n",
       "      <td>Bright Chelsea  Apartment. Chelsea!</td>\n",
       "      <td>60302</td>\n",
       "      <td>Philippa</td>\n",
       "      <td>NaN</td>\n",
       "      <td>Kensington and Chelsea</td>\n",
       "      <td>51.48780</td>\n",
       "      <td>-0.16813</td>\n",
       "      <td>Entire home/apt</td>\n",
       "      <td>75</td>\n",
       "      <td>3</td>\n",
       "      <td>89</td>\n",
       "      <td>2020-03-16</td>\n",
       "      <td>0.59</td>\n",
       "      <td>1</td>\n",
       "      <td>2</td>\n",
       "      <td>0</td>\n",
       "      <td>NaN</td>\n",
       "    </tr>\n",
       "    <tr>\n",
       "      <th>1</th>\n",
       "      <td>17506</td>\n",
       "      <td>Boutique Chelsea/Fulham Double bed 5-star ensuite</td>\n",
       "      <td>67915</td>\n",
       "      <td>Charlotte</td>\n",
       "      <td>NaN</td>\n",
       "      <td>Hammersmith and Fulham</td>\n",
       "      <td>51.47935</td>\n",
       "      <td>-0.19743</td>\n",
       "      <td>Private room</td>\n",
       "      <td>160</td>\n",
       "      <td>3</td>\n",
       "      <td>0</td>\n",
       "      <td>NaN</td>\n",
       "      <td>NaN</td>\n",
       "      <td>2</td>\n",
       "      <td>324</td>\n",
       "      <td>0</td>\n",
       "      <td>NaN</td>\n",
       "    </tr>\n",
       "    <tr>\n",
       "      <th>2</th>\n",
       "      <td>13913</td>\n",
       "      <td>Holiday London DB Room Let-on going</td>\n",
       "      <td>54730</td>\n",
       "      <td>Alina</td>\n",
       "      <td>NaN</td>\n",
       "      <td>Islington</td>\n",
       "      <td>51.56861</td>\n",
       "      <td>-0.11270</td>\n",
       "      <td>Private room</td>\n",
       "      <td>49</td>\n",
       "      <td>1</td>\n",
       "      <td>26</td>\n",
       "      <td>2022-05-22</td>\n",
       "      <td>0.18</td>\n",
       "      <td>2</td>\n",
       "      <td>341</td>\n",
       "      <td>5</td>\n",
       "      <td>NaN</td>\n",
       "    </tr>\n",
       "    <tr>\n",
       "      <th>3</th>\n",
       "      <td>17402</td>\n",
       "      <td>Superb 3-Bed/2 Bath &amp; Wifi: Trendy W1</td>\n",
       "      <td>67564</td>\n",
       "      <td>Liz</td>\n",
       "      <td>NaN</td>\n",
       "      <td>Westminster</td>\n",
       "      <td>51.52195</td>\n",
       "      <td>-0.14094</td>\n",
       "      <td>Entire home/apt</td>\n",
       "      <td>379</td>\n",
       "      <td>4</td>\n",
       "      <td>49</td>\n",
       "      <td>2022-06-06</td>\n",
       "      <td>0.36</td>\n",
       "      <td>3</td>\n",
       "      <td>251</td>\n",
       "      <td>7</td>\n",
       "      <td>NaN</td>\n",
       "    </tr>\n",
       "    <tr>\n",
       "      <th>4</th>\n",
       "      <td>31361</td>\n",
       "      <td>Restful Room, Friendly House, East London</td>\n",
       "      <td>134606</td>\n",
       "      <td>Cryn</td>\n",
       "      <td>NaN</td>\n",
       "      <td>Newham</td>\n",
       "      <td>51.53403</td>\n",
       "      <td>0.02709</td>\n",
       "      <td>Private room</td>\n",
       "      <td>33</td>\n",
       "      <td>1</td>\n",
       "      <td>118</td>\n",
       "      <td>2022-06-05</td>\n",
       "      <td>0.81</td>\n",
       "      <td>2</td>\n",
       "      <td>310</td>\n",
       "      <td>2</td>\n",
       "      <td>NaN</td>\n",
       "    </tr>\n",
       "  </tbody>\n",
       "</table>\n",
       "</div>"
      ],
      "text/plain": [
       "      id                                               name  host_id  \\\n",
       "0  15400                Bright Chelsea  Apartment. Chelsea!    60302   \n",
       "1  17506  Boutique Chelsea/Fulham Double bed 5-star ensuite    67915   \n",
       "2  13913                Holiday London DB Room Let-on going    54730   \n",
       "3  17402              Superb 3-Bed/2 Bath & Wifi: Trendy W1    67564   \n",
       "4  31361          Restful Room, Friendly House, East London   134606   \n",
       "\n",
       "   host_name  neighbourhood_group           neighbourhood  latitude  \\\n",
       "0   Philippa                  NaN  Kensington and Chelsea  51.48780   \n",
       "1  Charlotte                  NaN  Hammersmith and Fulham  51.47935   \n",
       "2      Alina                  NaN               Islington  51.56861   \n",
       "3        Liz                  NaN             Westminster  51.52195   \n",
       "4       Cryn                  NaN                  Newham  51.53403   \n",
       "\n",
       "   longitude        room_type  price  minimum_nights  number_of_reviews  \\\n",
       "0   -0.16813  Entire home/apt     75               3                 89   \n",
       "1   -0.19743     Private room    160               3                  0   \n",
       "2   -0.11270     Private room     49               1                 26   \n",
       "3   -0.14094  Entire home/apt    379               4                 49   \n",
       "4    0.02709     Private room     33               1                118   \n",
       "\n",
       "  last_review  reviews_per_month  calculated_host_listings_count  \\\n",
       "0  2020-03-16               0.59                               1   \n",
       "1         NaN                NaN                               2   \n",
       "2  2022-05-22               0.18                               2   \n",
       "3  2022-06-06               0.36                               3   \n",
       "4  2022-06-05               0.81                               2   \n",
       "\n",
       "   availability_365  number_of_reviews_ltm  license  \n",
       "0                 2                      0      NaN  \n",
       "1               324                      0      NaN  \n",
       "2               341                      5      NaN  \n",
       "3               251                      7      NaN  \n",
       "4               310                      2      NaN  "
      ]
     },
     "execution_count": 5,
     "metadata": {},
     "output_type": "execute_result"
    }
   ],
   "source": [
    "london_database.head()"
   ]
  },
  {
   "cell_type": "code",
   "execution_count": 6,
   "id": "a312c126",
   "metadata": {},
   "outputs": [
    {
     "data": {
      "text/plain": [
       "id                                    0\n",
       "name                                 22\n",
       "host_id                               0\n",
       "host_name                             6\n",
       "neighbourhood_group               66152\n",
       "neighbourhood                         0\n",
       "latitude                              0\n",
       "longitude                             0\n",
       "room_type                             0\n",
       "price                                 0\n",
       "minimum_nights                        0\n",
       "number_of_reviews                     0\n",
       "last_review                       17160\n",
       "reviews_per_month                 17160\n",
       "calculated_host_listings_count        0\n",
       "availability_365                      0\n",
       "number_of_reviews_ltm                 0\n",
       "license                           66152\n",
       "dtype: int64"
      ]
     },
     "execution_count": 6,
     "metadata": {},
     "output_type": "execute_result"
    }
   ],
   "source": [
    "london_database.isnull().sum() \n",
    "# prices are all filled with some number. By the way, before we go straight, we got to check some anomalies up."
   ]
  },
  {
   "cell_type": "code",
   "execution_count": 7,
   "id": "5d56a7c1",
   "metadata": {},
   "outputs": [
    {
     "data": {
      "text/html": [
       "<div>\n",
       "<style scoped>\n",
       "    .dataframe tbody tr th:only-of-type {\n",
       "        vertical-align: middle;\n",
       "    }\n",
       "\n",
       "    .dataframe tbody tr th {\n",
       "        vertical-align: top;\n",
       "    }\n",
       "\n",
       "    .dataframe thead th {\n",
       "        text-align: right;\n",
       "    }\n",
       "</style>\n",
       "<table border=\"1\" class=\"dataframe\">\n",
       "  <thead>\n",
       "    <tr style=\"text-align: right;\">\n",
       "      <th></th>\n",
       "      <th>id</th>\n",
       "      <th>name</th>\n",
       "      <th>host_id</th>\n",
       "      <th>host_name</th>\n",
       "      <th>neighbourhood_group</th>\n",
       "      <th>neighbourhood</th>\n",
       "      <th>latitude</th>\n",
       "      <th>longitude</th>\n",
       "      <th>room_type</th>\n",
       "      <th>price</th>\n",
       "      <th>minimum_nights</th>\n",
       "      <th>number_of_reviews</th>\n",
       "      <th>last_review</th>\n",
       "      <th>reviews_per_month</th>\n",
       "      <th>calculated_host_listings_count</th>\n",
       "      <th>availability_365</th>\n",
       "      <th>number_of_reviews_ltm</th>\n",
       "      <th>license</th>\n",
       "    </tr>\n",
       "  </thead>\n",
       "  <tbody>\n",
       "    <tr>\n",
       "      <th>2</th>\n",
       "      <td>13913</td>\n",
       "      <td>Holiday London DB Room Let-on going</td>\n",
       "      <td>54730</td>\n",
       "      <td>Alina</td>\n",
       "      <td>NaN</td>\n",
       "      <td>Islington</td>\n",
       "      <td>51.568610</td>\n",
       "      <td>-0.112700</td>\n",
       "      <td>Private room</td>\n",
       "      <td>49</td>\n",
       "      <td>1</td>\n",
       "      <td>26</td>\n",
       "      <td>2022-05-22</td>\n",
       "      <td>0.18</td>\n",
       "      <td>2</td>\n",
       "      <td>341</td>\n",
       "      <td>5</td>\n",
       "      <td>NaN</td>\n",
       "    </tr>\n",
       "    <tr>\n",
       "      <th>4</th>\n",
       "      <td>31361</td>\n",
       "      <td>Restful Room, Friendly House, East London</td>\n",
       "      <td>134606</td>\n",
       "      <td>Cryn</td>\n",
       "      <td>NaN</td>\n",
       "      <td>Newham</td>\n",
       "      <td>51.534030</td>\n",
       "      <td>0.027090</td>\n",
       "      <td>Private room</td>\n",
       "      <td>33</td>\n",
       "      <td>1</td>\n",
       "      <td>118</td>\n",
       "      <td>2022-06-05</td>\n",
       "      <td>0.81</td>\n",
       "      <td>2</td>\n",
       "      <td>310</td>\n",
       "      <td>2</td>\n",
       "      <td>NaN</td>\n",
       "    </tr>\n",
       "    <tr>\n",
       "      <th>8</th>\n",
       "      <td>25123</td>\n",
       "      <td>Clean big Room in London (Room 1)</td>\n",
       "      <td>103583</td>\n",
       "      <td>Grace</td>\n",
       "      <td>NaN</td>\n",
       "      <td>Barnet</td>\n",
       "      <td>51.574380</td>\n",
       "      <td>-0.210810</td>\n",
       "      <td>Private room</td>\n",
       "      <td>29</td>\n",
       "      <td>10</td>\n",
       "      <td>129</td>\n",
       "      <td>2020-03-15</td>\n",
       "      <td>0.87</td>\n",
       "      <td>3</td>\n",
       "      <td>0</td>\n",
       "      <td>0</td>\n",
       "      <td>NaN</td>\n",
       "    </tr>\n",
       "    <tr>\n",
       "      <th>10</th>\n",
       "      <td>38950</td>\n",
       "      <td>Room 1 Large Double Bedroom - front ground floor</td>\n",
       "      <td>167107</td>\n",
       "      <td>Paul</td>\n",
       "      <td>NaN</td>\n",
       "      <td>Haringey</td>\n",
       "      <td>51.586840</td>\n",
       "      <td>-0.086320</td>\n",
       "      <td>Private room</td>\n",
       "      <td>45</td>\n",
       "      <td>1</td>\n",
       "      <td>1</td>\n",
       "      <td>2021-12-12</td>\n",
       "      <td>0.17</td>\n",
       "      <td>3</td>\n",
       "      <td>42</td>\n",
       "      <td>1</td>\n",
       "      <td>NaN</td>\n",
       "    </tr>\n",
       "    <tr>\n",
       "      <th>11</th>\n",
       "      <td>39387</td>\n",
       "      <td>Stylish bedsit in Notting Hill ish flat.</td>\n",
       "      <td>168920</td>\n",
       "      <td>Alec</td>\n",
       "      <td>NaN</td>\n",
       "      <td>Westminster</td>\n",
       "      <td>51.526050</td>\n",
       "      <td>-0.199420</td>\n",
       "      <td>Private room</td>\n",
       "      <td>42</td>\n",
       "      <td>5</td>\n",
       "      <td>10</td>\n",
       "      <td>2019-11-03</td>\n",
       "      <td>0.10</td>\n",
       "      <td>1</td>\n",
       "      <td>0</td>\n",
       "      <td>0</td>\n",
       "      <td>NaN</td>\n",
       "    </tr>\n",
       "    <tr>\n",
       "      <th>...</th>\n",
       "      <td>...</td>\n",
       "      <td>...</td>\n",
       "      <td>...</td>\n",
       "      <td>...</td>\n",
       "      <td>...</td>\n",
       "      <td>...</td>\n",
       "      <td>...</td>\n",
       "      <td>...</td>\n",
       "      <td>...</td>\n",
       "      <td>...</td>\n",
       "      <td>...</td>\n",
       "      <td>...</td>\n",
       "      <td>...</td>\n",
       "      <td>...</td>\n",
       "      <td>...</td>\n",
       "      <td>...</td>\n",
       "      <td>...</td>\n",
       "      <td>...</td>\n",
       "    </tr>\n",
       "    <tr>\n",
       "      <th>66129</th>\n",
       "      <td>50373947</td>\n",
       "      <td>Comfortable room in quiet house</td>\n",
       "      <td>406893933</td>\n",
       "      <td>Anne</td>\n",
       "      <td>NaN</td>\n",
       "      <td>Hounslow</td>\n",
       "      <td>51.423570</td>\n",
       "      <td>-0.449250</td>\n",
       "      <td>Private room</td>\n",
       "      <td>33</td>\n",
       "      <td>1</td>\n",
       "      <td>11</td>\n",
       "      <td>2021-10-10</td>\n",
       "      <td>0.93</td>\n",
       "      <td>2</td>\n",
       "      <td>262</td>\n",
       "      <td>11</td>\n",
       "      <td>NaN</td>\n",
       "    </tr>\n",
       "    <tr>\n",
       "      <th>66132</th>\n",
       "      <td>625273209869378415</td>\n",
       "      <td>Double bedroom in house!</td>\n",
       "      <td>135848394</td>\n",
       "      <td>Freddie</td>\n",
       "      <td>NaN</td>\n",
       "      <td>Hounslow</td>\n",
       "      <td>51.423840</td>\n",
       "      <td>-0.445550</td>\n",
       "      <td>Private room</td>\n",
       "      <td>40</td>\n",
       "      <td>1</td>\n",
       "      <td>1</td>\n",
       "      <td>2022-05-31</td>\n",
       "      <td>1.00</td>\n",
       "      <td>3</td>\n",
       "      <td>358</td>\n",
       "      <td>1</td>\n",
       "      <td>NaN</td>\n",
       "    </tr>\n",
       "    <tr>\n",
       "      <th>66135</th>\n",
       "      <td>31271610</td>\n",
       "      <td>Large double room in family home</td>\n",
       "      <td>35378198</td>\n",
       "      <td>Manuelle</td>\n",
       "      <td>NaN</td>\n",
       "      <td>Kingston upon Thames</td>\n",
       "      <td>51.385690</td>\n",
       "      <td>-0.319780</td>\n",
       "      <td>Private room</td>\n",
       "      <td>42</td>\n",
       "      <td>1</td>\n",
       "      <td>7</td>\n",
       "      <td>2022-03-27</td>\n",
       "      <td>0.18</td>\n",
       "      <td>2</td>\n",
       "      <td>170</td>\n",
       "      <td>5</td>\n",
       "      <td>NaN</td>\n",
       "    </tr>\n",
       "    <tr>\n",
       "      <th>66137</th>\n",
       "      <td>27727291</td>\n",
       "      <td>Chillout</td>\n",
       "      <td>157341795</td>\n",
       "      <td>Mark</td>\n",
       "      <td>NaN</td>\n",
       "      <td>Richmond upon Thames</td>\n",
       "      <td>51.384350</td>\n",
       "      <td>-0.346570</td>\n",
       "      <td>Private room</td>\n",
       "      <td>40</td>\n",
       "      <td>2</td>\n",
       "      <td>2</td>\n",
       "      <td>2020-02-20</td>\n",
       "      <td>0.06</td>\n",
       "      <td>2</td>\n",
       "      <td>358</td>\n",
       "      <td>0</td>\n",
       "      <td>NaN</td>\n",
       "    </tr>\n",
       "    <tr>\n",
       "      <th>66140</th>\n",
       "      <td>24853529</td>\n",
       "      <td>Greater London room lovely view near Heathrow.</td>\n",
       "      <td>39362314</td>\n",
       "      <td>Sumitra</td>\n",
       "      <td>NaN</td>\n",
       "      <td>Hounslow</td>\n",
       "      <td>51.425203</td>\n",
       "      <td>-0.424173</td>\n",
       "      <td>Private room</td>\n",
       "      <td>39</td>\n",
       "      <td>1</td>\n",
       "      <td>1</td>\n",
       "      <td>2022-05-22</td>\n",
       "      <td>1.00</td>\n",
       "      <td>2</td>\n",
       "      <td>305</td>\n",
       "      <td>1</td>\n",
       "      <td>NaN</td>\n",
       "    </tr>\n",
       "  </tbody>\n",
       "</table>\n",
       "<p>15272 rows × 18 columns</p>\n",
       "</div>"
      ],
      "text/plain": [
       "                       id                                              name  \\\n",
       "2                   13913               Holiday London DB Room Let-on going   \n",
       "4                   31361         Restful Room, Friendly House, East London   \n",
       "8                   25123                 Clean big Room in London (Room 1)   \n",
       "10                  38950  Room 1 Large Double Bedroom - front ground floor   \n",
       "11                  39387          Stylish bedsit in Notting Hill ish flat.   \n",
       "...                   ...                                               ...   \n",
       "66129            50373947                   Comfortable room in quiet house   \n",
       "66132  625273209869378415                          Double bedroom in house!   \n",
       "66135            31271610                  Large double room in family home   \n",
       "66137            27727291                                          Chillout   \n",
       "66140            24853529    Greater London room lovely view near Heathrow.   \n",
       "\n",
       "         host_id host_name  neighbourhood_group         neighbourhood  \\\n",
       "2          54730     Alina                  NaN             Islington   \n",
       "4         134606      Cryn                  NaN                Newham   \n",
       "8         103583     Grace                  NaN                Barnet   \n",
       "10        167107      Paul                  NaN              Haringey   \n",
       "11        168920      Alec                  NaN           Westminster   \n",
       "...          ...       ...                  ...                   ...   \n",
       "66129  406893933      Anne                  NaN              Hounslow   \n",
       "66132  135848394   Freddie                  NaN              Hounslow   \n",
       "66135   35378198  Manuelle                  NaN  Kingston upon Thames   \n",
       "66137  157341795      Mark                  NaN  Richmond upon Thames   \n",
       "66140   39362314   Sumitra                  NaN              Hounslow   \n",
       "\n",
       "        latitude  longitude     room_type  price  minimum_nights  \\\n",
       "2      51.568610  -0.112700  Private room     49               1   \n",
       "4      51.534030   0.027090  Private room     33               1   \n",
       "8      51.574380  -0.210810  Private room     29              10   \n",
       "10     51.586840  -0.086320  Private room     45               1   \n",
       "11     51.526050  -0.199420  Private room     42               5   \n",
       "...          ...        ...           ...    ...             ...   \n",
       "66129  51.423570  -0.449250  Private room     33               1   \n",
       "66132  51.423840  -0.445550  Private room     40               1   \n",
       "66135  51.385690  -0.319780  Private room     42               1   \n",
       "66137  51.384350  -0.346570  Private room     40               2   \n",
       "66140  51.425203  -0.424173  Private room     39               1   \n",
       "\n",
       "       number_of_reviews last_review  reviews_per_month  \\\n",
       "2                     26  2022-05-22               0.18   \n",
       "4                    118  2022-06-05               0.81   \n",
       "8                    129  2020-03-15               0.87   \n",
       "10                     1  2021-12-12               0.17   \n",
       "11                    10  2019-11-03               0.10   \n",
       "...                  ...         ...                ...   \n",
       "66129                 11  2021-10-10               0.93   \n",
       "66132                  1  2022-05-31               1.00   \n",
       "66135                  7  2022-03-27               0.18   \n",
       "66137                  2  2020-02-20               0.06   \n",
       "66140                  1  2022-05-22               1.00   \n",
       "\n",
       "       calculated_host_listings_count  availability_365  \\\n",
       "2                                   2               341   \n",
       "4                                   2               310   \n",
       "8                                   3                 0   \n",
       "10                                  3                42   \n",
       "11                                  1                 0   \n",
       "...                               ...               ...   \n",
       "66129                               2               262   \n",
       "66132                               3               358   \n",
       "66135                               2               170   \n",
       "66137                               2               358   \n",
       "66140                               2               305   \n",
       "\n",
       "       number_of_reviews_ltm  license  \n",
       "2                          5      NaN  \n",
       "4                          2      NaN  \n",
       "8                          0      NaN  \n",
       "10                         1      NaN  \n",
       "11                         0      NaN  \n",
       "...                      ...      ...  \n",
       "66129                     11      NaN  \n",
       "66132                      1      NaN  \n",
       "66135                      5      NaN  \n",
       "66137                      0      NaN  \n",
       "66140                      1      NaN  \n",
       "\n",
       "[15272 rows x 18 columns]"
      ]
     },
     "execution_count": 7,
     "metadata": {},
     "output_type": "execute_result"
    }
   ],
   "source": [
    "london_database[london_database['price'] < 50]\n",
    "# there are many houses with prices lower than 50, which are abnormal, especially for a city like London.\n",
    "# as I don't have any contact with the enterprise that launched this database, I am going to assume these are all correct values."
   ]
  },
  {
   "cell_type": "code",
   "execution_count": 12,
   "id": "2a0e65c0",
   "metadata": {},
   "outputs": [
    {
     "data": {
      "text/plain": [
       "159.39815878582658"
      ]
     },
     "execution_count": 12,
     "metadata": {},
     "output_type": "execute_result"
    }
   ],
   "source": [
    "mean_london = mean(london_database['price'])\n",
    "mean_london"
   ]
  },
  {
   "cell_type": "code",
   "execution_count": 19,
   "id": "a947d255",
   "metadata": {},
   "outputs": [
    {
     "name": "stderr",
     "output_type": "stream",
     "text": [
      "C:\\Users\\Pichau\\AppData\\Local\\Temp/ipykernel_12712/3438843281.py:1: FutureWarning: Dropping of nuisance columns in DataFrame reductions (with 'numeric_only=None') is deprecated; in a future version this will raise TypeError.  Select only valid columns before calling the reduction.\n",
      "  london_database.mean(axis = 0)\n"
     ]
    },
    {
     "data": {
      "text/plain": [
       "id                                6.702216e+16\n",
       "host_id                           1.149402e+08\n",
       "neighbourhood_group                        NaN\n",
       "latitude                          5.150940e+01\n",
       "longitude                        -1.277489e-01\n",
       "price                             1.593982e+02\n",
       "minimum_nights                    6.828229e+00\n",
       "number_of_reviews                 1.700290e+01\n",
       "reviews_per_month                 7.378978e-01\n",
       "calculated_host_listings_count    1.283511e+01\n",
       "availability_365                  1.016184e+02\n",
       "number_of_reviews_ltm             3.653722e+00\n",
       "license                                    NaN\n",
       "dtype: float64"
      ]
     },
     "execution_count": 19,
     "metadata": {},
     "output_type": "execute_result"
    }
   ],
   "source": [
    "london_database.mean(axis = 0)\n",
    "# just to check if mean_london is correct."
   ]
  },
  {
   "cell_type": "code",
   "execution_count": 20,
   "id": "43c6802e",
   "metadata": {},
   "outputs": [],
   "source": [
    "amsterdam_database = pd.read_csv('listings.csv')\n"
   ]
  },
  {
   "cell_type": "code",
   "execution_count": 22,
   "id": "8d32cbc4",
   "metadata": {},
   "outputs": [
    {
     "data": {
      "text/plain": [
       "198.01960149036125"
      ]
     },
     "execution_count": 22,
     "metadata": {},
     "output_type": "execute_result"
    }
   ],
   "source": [
    "mean_amsterdam = mean(amsterdam_database['price'])\n",
    "mean_amsterdam"
   ]
  },
  {
   "cell_type": "code",
   "execution_count": 24,
   "id": "6799828c",
   "metadata": {},
   "outputs": [],
   "source": [
    "# I am going to convert the data where the column is price in both databases, so it's a little bit better to work with."
   ]
  },
  {
   "cell_type": "code",
   "execution_count": 26,
   "id": "25c16951",
   "metadata": {},
   "outputs": [
    {
     "data": {
      "text/plain": [
       "array([  75,  160,   49, ...,   92, 1436,  155], dtype=int64)"
      ]
     },
     "execution_count": 26,
     "metadata": {},
     "output_type": "execute_result"
    }
   ],
   "source": [
    "mean_array_london = london_database['price'].to_numpy()\n",
    "mean_array_london"
   ]
  },
  {
   "cell_type": "code",
   "execution_count": 28,
   "id": "e18a10d3",
   "metadata": {},
   "outputs": [
    {
     "data": {
      "text/plain": [
       "array([ 88, 105, 152, ..., 180, 174,  65], dtype=int64)"
      ]
     },
     "execution_count": 28,
     "metadata": {},
     "output_type": "execute_result"
    }
   ],
   "source": [
    "mean_array_amsterdam = amsterdam_database['price'].to_numpy()\n",
    "mean_array_amsterdam"
   ]
  },
  {
   "cell_type": "code",
   "execution_count": 34,
   "id": "c200b8d7",
   "metadata": {},
   "outputs": [
    {
     "name": "stderr",
     "output_type": "stream",
     "text": [
      "C:\\Users\\Pichau\\anaconda3\\lib\\site-packages\\seaborn\\distributions.py:2619: FutureWarning: `distplot` is a deprecated function and will be removed in a future version. Please adapt your code to use either `displot` (a figure-level function with similar flexibility) or `histplot` (an axes-level function for histograms).\n",
      "  warnings.warn(msg, FutureWarning)\n"
     ]
    },
    {
     "data": {
      "image/png": "[encoded data removed]",
      "text/plain": [
       "<Figure size 432x288 with 1 Axes>"
      ]
     },
     "metadata": {
      "needs_background": "light"
     },
     "output_type": "display_data"
    }
   ],
   "source": [
    "plot_distribution(mean_array_amsterdam);"
   ]
  },
  {
   "cell_type": "code",
   "execution_count": 33,
   "id": "850a2481",
   "metadata": {},
   "outputs": [
    {
     "name": "stderr",
     "output_type": "stream",
     "text": [
      "C:\\Users\\Pichau\\anaconda3\\lib\\site-packages\\seaborn\\distributions.py:2619: FutureWarning: `distplot` is a deprecated function and will be removed in a future version. Please adapt your code to use either `displot` (a figure-level function with similar flexibility) or `histplot` (an axes-level function for histograms).\n",
      "  warnings.warn(msg, FutureWarning)\n"
     ]
    },
    {
     "data": {
      "image/png": "[encoded data removed]",
      "text/plain": [
       "<Figure size 432x288 with 1 Axes>"
      ]
     },
     "metadata": {
      "needs_background": "light"
     },
     "output_type": "display_data"
    }
   ],
   "source": [
    "plot_distribution(mean_array_london);"
   ]
  },
  {
   "cell_type": "code",
   "execution_count": 35,
   "id": "762a05ea",
   "metadata": {},
   "outputs": [],
   "source": []
  },
  {
   "cell_type": "code",
   "execution_count": 36,
   "id": "5194c974",
   "metadata": {},
   "outputs": [
    {
     "data": {
      "text/plain": [
       "396.23024378948884"
      ]
     },
     "execution_count": 36,
     "metadata": {},
     "output_type": "execute_result"
    }
   ],
   "source": [
    "mean_array_london.std()"
   ]
  },
  {
   "cell_type": "code",
   "execution_count": 37,
   "id": "7c9ec971",
   "metadata": {},
   "outputs": [
    {
     "data": {
      "text/plain": [
       "140.5355950041894"
      ]
     },
     "execution_count": 37,
     "metadata": {},
     "output_type": "execute_result"
    }
   ],
   "source": [
    "mean_array_amsterdam.std()"
   ]
  },
  {
   "cell_type": "code",
   "execution_count": 46,
   "id": "ec92bf92",
   "metadata": {},
   "outputs": [],
   "source": [
    "def comparing_two_means(arr_1, arr_2, alpha, sample_size):\n",
    "    stat, p = ttest_ind(arr_1, arr_2)\n",
    "    print('Statistics = %.3f, p = %.3f' % (stat, p))\n",
    "    if p > alpha:\n",
    "        print('Same distributions (fail to reject HO)')\n",
    "    else:\n",
    "        print('They are different(reject HO)')"
   ]
  },
  {
   "cell_type": "code",
   "execution_count": 47,
   "id": "f54c2fa3",
   "metadata": {},
   "outputs": [
    {
     "name": "stdout",
     "output_type": "stream",
     "text": [
      "Statistics = 6.404, p = 0.000\n",
      "They are different(reject HO)\n"
     ]
    }
   ],
   "source": [
    "sample_size = 1000\n",
    "amsterdam_sampled = np.random.choice(mean_array_amsterdam, sample_size)\n",
    "london_sampled = np.random.choice(mean_array_london, sample_size)\n",
    "comparing_two_means(amsterdam_sampled, london_sampled, 0.05, sample_size)"
   ]
  },
  {
   "cell_type": "code",
   "execution_count": 48,
   "id": "f740b0d9",
   "metadata": {},
   "outputs": [],
   "source": [
    "# P value is 0!!!!!!! This is awkward. By the way, that's it."
   ]
  },
  {
   "cell_type": "code",
   "execution_count": null,
   "id": "46a59769",
   "metadata": {},
   "outputs": [],
   "source": []
  }
 ],
 "metadata": {
  "kernelspec": {
   "display_name": "Python 3 (ipykernel)",
   "language": "python",
   "name": "python3"
  },
  "language_info": {
   "codemirror_mode": {
    "name": "ipython",
    "version": 3
   },
   "file_extension": ".py",
   "mimetype": "text/x-python",
   "name": "python",
   "nbconvert_exporter": "python",
   "pygments_lexer": "ipython3",
   "version": "3.9.7"
  }
 },
 "nbformat": 4,
 "nbformat_minor": 5
}
